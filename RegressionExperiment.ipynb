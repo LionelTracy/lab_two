{
 "cells": [
  {
   "cell_type": "code",
   "execution_count": 1,
   "metadata": {},
   "outputs": [
    {
     "data": {
      "image/png": "[encoded data removed]",
      "text/plain": [
       "<matplotlib.figure.Figure at 0x1a3256e0588>"
      ]
     },
     "metadata": {},
     "output_type": "display_data"
    },
    {
     "name": "stdout",
     "output_type": "stream",
     "text": [
      "2017-12-15 11:34:33.323839\n"
     ]
    }
   ],
   "source": [
    "import os\n",
    "import numpy as np\n",
    "import random\n",
    "import math\n",
    "import datetime\n",
    "from sklearn.datasets import load_svmlight_file\n",
    "\n",
    "os.chdir('E://test')\n",
    "# 读取数据\n",
    "X_train, Y_train = load_svmlight_file('a9a.txt', n_features=123)\n",
    "X_test, Y_test = load_svmlight_file('a9a_testing.txt', n_features=123)\n",
    "\n",
    "X_train = X_train.toarray()\n",
    "X_test = X_test.toarray()\n",
    "Y_train = Y_train.reshape(Y_train.shape[0], 1)\n",
    "Y_test = Y_test.reshape(Y_test.shape[0], 1)\n",
    "\n",
    "#初始化参数\n",
    "w=np.zeros((X_train.shape[1], 1))\n",
    "LAMDA=1\n",
    "GAMA=0.9\n",
    "learning_rate=0.1\n",
    "num=200\n",
    "iter_number=100\n",
    "threshold=0.5\n",
    "shape1=range(0,X_train.shape[0])\n",
    "\n",
    "#实现随机取样\n",
    "def select_function(X, Y, n):\n",
    "    random_num=random.sample(shape1, n)\n",
    "    X_random=np.ones((0, X.shape[1]))\n",
    "    Y_random=np.ones((0, Y.shape[1]))\n",
    "\n",
    "    for i in random_num:\n",
    "        X_random = np.r_[X_random, X[i].reshape(1, X.shape[1])]\n",
    "        Y_random= np.r_[Y_random, Y[i].reshape(1, Y.shape[1])]\n",
    "    return X_random, Y_random\n",
    "\n",
    "def NAG(X, Y, w):\n",
    "    w1 = w - GAMA * vt1\n",
    "    loss_gradient=np.zeros(w.shape)\n",
    "    for i in range(0, Y.shape[0]):\n",
    "        Xi = X[i].reshape(1, X.shape[1]).T\n",
    "        Yi = Y[i][0]\n",
    "        loss_gradient = loss_gradient+ Yi / (1 + math.exp(Yi * np.dot(w1.T, Xi)[0][0])) * Xi\n",
    "    gradient =( LAMDA *  w1 ) - 1 / num * loss_gradient\n",
    "    vt = GAMA * vt1 + learning_rate * gradient\n",
    "    w = w - vt\n",
    "    return w\n",
    "\n",
    "NAG_loss_list = []\n",
    "for i in range(0, iter_number):\n",
    "    vt1=np.zeros(w.shape)\n",
    "    x_select, y_select=select_function(X_train, Y_train, num)\n",
    "    w = NAG(x_select, y_select, w)\n",
    "    loss_sum=0\n",
    "    for i in range(0, Y_test.shape[0]):\n",
    "        Xi = X_test[i].reshape(1, X_test.shape[1]).T\n",
    "        Yi = Y_test[i][0]\n",
    "        loss_sum += math.log(1 + math.exp(-Yi * np.dot(w.T, Xi)[0][0]))\n",
    "\n",
    "    NAG_test_loss = LAMDA/2 * np.dot(w.T, w)[0][0] + 1/X_test.shape[0] * loss_sum\n",
    "    NAG_loss_list.append(NAG_test_loss)\n",
    "\n",
    "import matplotlib.pyplot as plt\n",
    "plt.xlabel('iteration time')\n",
    "plt.ylabel('loss')\n",
    "x = range(iter_number)\n",
    "plt.plot(x, NAG_loss_list,label = 'NAG')\n",
    "plt.legend()\n",
    "plt.show()\n",
    "\n",
    "print(datetime.datetime.now())"
   ]
  },
  {
   "cell_type": "code",
   "execution_count": null,
   "metadata": {
    "collapsed": true
   },
   "outputs": [],
   "source": []
  }
 ],
 "metadata": {
  "kernelspec": {
   "display_name": "Python 3",
   "language": "python",
   "name": "python3"
  },
  "language_info": {
   "codemirror_mode": {
    "name": "ipython",
    "version": 3
   },
   "file_extension": ".py",
   "mimetype": "text/x-python",
   "name": "python",
   "nbconvert_exporter": "python",
   "pygments_lexer": "ipython3",
   "version": "3.6.3"
  }
 },
 "nbformat": 4,
 "nbformat_minor": 2
}
